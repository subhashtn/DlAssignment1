{
  "nbformat": 4,
  "nbformat_minor": 0,
  "metadata": {
    "colab": {
      "name": "DL Programming Assignment 1.ipynb",
      "version": "0.3.2",
      "provenance": [],
      "collapsed_sections": [],
      "include_colab_link": true
    },
    "kernelspec": {
      "name": "python3",
      "display_name": "Python 3"
    }
  },
  "cells": [
    {
      "cell_type": "markdown",
      "metadata": {
        "id": "view-in-github",
        "colab_type": "text"
      },
      "source": [
        "<a href=\"https://colab.research.google.com/github/subhashtn/DlAssignment1/blob/feature%2FParseInput/DL_Programming_Assignment_1.ipynb\" target=\"_parent\"><img src=\"https://colab.research.google.com/assets/colab-badge.svg\" alt=\"Open In Colab\"/></a>"
      ]
    },
    {
      "metadata": {
        "id": "NH49gAPrtrKA",
        "colab_type": "code",
        "colab": {}
      },
      "cell_type": "code",
      "source": [
        "import argparse\n",
        "\n",
        "parser = argparse.ArgumentParser(description = 'Create a neural network to classify alphabets')\n",
        "\n",
        "parser.add_argument('--lr', type = float, default = '0.1', help = 'Learning rate', dest = 'LearnRate')\n",
        "parser.add_argument('--momentum', type = float, default = '0.1', help = 'momentum', dest = 'Momentum')\n",
        "parser.add_argument('--num_hidden', type = int, default = '3', help = 'Number of hidden layers', dest = 'NbOfHiddenLayers')\n",
        "parser.add_argument('--sizes', help = 'Sizes of hidden layers(delimited by comma)', dest = 'SizeOfHidLayersStr')\n",
        "parser.add_argument('--activation', choices = ['Sigmoid', 'Tanh', 'sigmoid', 'tanh'], default = 'sigmoid', help = 'Choice of activation function',\n",
        "\t\t\t\t\tdest = 'ActivationFn')\n",
        "parser.add_argument('--loss', choices = ['sq', 'ce'], default = 'ce', help = 'Choice of loss function', dest = 'LossFn')\n",
        "parser.add_argument('--opt', choices = ['gd', 'momentum', 'nag', 'adam'], default = 'gd', help = 'the optimization algorithm to be used:',\n",
        "\t\t\t\t\tdest = 'AlgoOpt')\n",
        "parser.add_argument('--batch_size', type = int, default = 100, help = '(Mini batch version algorithm)the batch size to be used - valid values are 1 and multiples of 5',\n",
        "\t\t\t\t\tdest = 'BatchSize')#How to force to multiple of 5\n",
        "parser.add_argument('--epochs', type = int, default = 1000, help = 'number of passes over the data', dest = 'NbOfEpochs')\n",
        "parser.add_argument('--anneal', choices = ['true', 'false'], default = 'true', help = 'algorithm halves the learning rate',\tdest = 'Anneal')\n",
        "parser.add_argument('--save_dir', help = 'Dir to save the model(weights and biases)', dest = 'OutputDir')\n",
        "parser.add_argument('--expt_dir', help = 'Dir to save the log files', dest = 'LogDir')\n",
        "parser.add_argument('--train', help = 'path to the Training dataset', dest = 'TrainDataDir')\n",
        "parser.add_argument('--val', help = 'path to the Validation dataset', dest = 'ValDataDir')\n",
        "parser.add_argument('--test', help = 'path to the test dataset', dest = 'TestDataDir')\n",
        "\t\t\t\t\t\n",
        "args = parser.parse_args()\n",
        "SizeOfHidLayers = args.SizeOfHidLayersStr.split(',')\n",
        "SizeOfHidLayers = list(map(int, SizeOfHidLayers))\n",
        "\n",
        "print('LearnRate =', args.LearnRate)\n",
        "print('Momentum =', args.Momentum)\n",
        "print('NbOfHiddenLayers =', args.NbOfHiddenLayers)\n",
        "print('SizeOfHidLayers =', args.SizeOfHidLayersStr, SizeOfHidLayers)\n",
        "print('ActivationFn =', args.ActivationFn)\n",
        "print('LossFn =', args.LossFn)\n",
        "print('AlgoOpt =', args.AlgoOpt)\n",
        "print('BatchSize =', args.BatchSize)\n",
        "print('NbOfEpochs =', args.NbOfEpochs)\n",
        "print('Anneal =', args.Anneal)\n",
        "print('OutputDir =', args.OutputDir)\n",
        "print('LogDir =', args.LogDir)\n",
        "print('TrainDataDir =', args.TrainDataDir)\n",
        "print('ValDataDir =', args.ValDataDir)\n",
        "print('TestDataDir =', args.TestDataDir)\n"
      ],
      "execution_count": 0,
      "outputs": []
    }
  ]
}